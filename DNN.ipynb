{
 "cells": [
  {
   "cell_type": "code",
   "execution_count": null,
   "id": "7df84a2b",
   "metadata": {
    "vscode": {
     "languageId": "plaintext"
    }
   },
   "outputs": [],
   "source": [
    "import pandas as pd\n",
    "import numpy as np\n",
    "from sklearn.model_selection import train_test_split\n",
    "from sklearn.preprocessing import StandardScaler\n",
    "from sklearn.metrics import mean_squared_error, r2_score\n",
    "from tensorflow import keras\n",
    "from tensorflow.keras import layers\n",
    "\n",
    "# Load your cleaned dataset\n",
    "df = pd.read_csv(\"Fully_cleaned.csv\")\n",
    "\n",
    "# Clean and preprocess\n",
    "df['bed'] = pd.to_numeric(df['bed'], errors='coerce')\n",
    "df['bath'] = df['bath'].replace(r'\\+', '', regex=True)\n",
    "df['bath'] = pd.to_numeric(df['bath'], errors='coerce')\n",
    "df = df.dropna(subset=['bed', 'bath', 'Safety_Score'])\n",
    "\n",
    "# Target transformation\n",
    "df['Property Value_log'] = np.log1p(df['Property Value'])\n",
    "\n",
    "# Features and target split\n",
    "X = df.drop(columns=['Property Value', 'Property Value_log'])\n",
    "y = df['Property Value_log']\n",
    "\n",
    "# One-hot encode categoricals\n",
    "X = pd.get_dummies(X, drop_first=True)\n",
    "\n",
    "# Replace inf/-inf, fill NaNs\n",
    "X = X.replace([np.inf, -np.inf], np.nan)\n",
    "X = X.fillna(X.median())\n",
    "\n",
    "# Train-test split\n",
    "X_train, X_test, y_train, y_test = train_test_split(X, y, test_size=0.2, random_state=42)\n",
    "\n",
    "# Scaling\n",
    "scaler = StandardScaler()\n",
    "X_train_scaled = scaler.fit_transform(X_train)\n",
    "X_test_scaled = scaler.transform(X_test)\n",
    "\n",
    "# DNN Model\n",
    "model = keras.Sequential([\n",
    "    layers.Dense(128, activation='relu', input_shape=(X_train_scaled.shape[1],)),\n",
    "    layers.Dropout(0.3),\n",
    "    layers.Dense(64, activation='relu'),\n",
    "    layers.Dense(1)\n",
    "])\n",
    "\n",
    "model.compile(optimizer='adam', loss='mse', metrics=['mae'])\n",
    "\n",
    "# Train\n",
    "history = model.fit(X_train_scaled, y_train, epochs=50, batch_size=32,\n",
    "                    validation_split=0.1, verbose=1)\n",
    "\n",
    "# Predict and evaluate\n",
    "y_pred_log = model.predict(X_test_scaled).flatten()\n",
    "y_pred = np.expm1(y_pred_log)\n",
    "y_true = np.expm1(y_test)\n",
    "\n",
    "rmse = np.sqrt(mean_squared_error(y_true, y_pred))\n",
    "r2 = r2_score(y_true, y_pred)\n",
    "\n",
    "print(f\"✅ RMSE: {rmse:,.2f}\")\n",
    "print(f\"✅ R² Score: {r2:.4f}\")"
   ]
  },
  {
   "cell_type": "code",
   "execution_count": null,
   "id": "95923724",
   "metadata": {
    "vscode": {
     "languageId": "plaintext"
    }
   },
   "outputs": [],
   "source": [
    "import matplotlib.pyplot as plt\n",
    "\n",
    "plt.figure(figsize=(8, 6))\n",
    "plt.scatter(y_true, y_pred, alpha=0.4)\n",
    "plt.plot([y_true.min(), y_true.max()], [y_true.min(), y_true.max()], 'r--')\n",
    "plt.xlabel(\"Actual Price\")\n",
    "plt.ylabel(\"Predicted Price\")\n",
    "plt.title(\"DNN: Actual vs Predicted Housing Prices\")\n",
    "plt.grid(True)\n",
    "plt.show()"
   ]
  }
 ],
 "metadata": {
  "language_info": {
   "name": "python"
  }
 },
 "nbformat": 4,
 "nbformat_minor": 5
}
